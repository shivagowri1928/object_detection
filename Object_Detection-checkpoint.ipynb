{
 "cells": [
  {
   "cell_type": "code",
   "execution_count": null,
   "id": "b6a199da",
   "metadata": {},
   "outputs": [],
   "source": [
    "import numpy as np\n",
    "import cv2 as cv\n",
    "\n",
    "img = cv.imread('assets/basketball.PNG',0)\n",
    "template = cv.imread('assets/ball.jpg',0)\n",
    "h,w = template.shape\n",
    "\n",
    "methods = [cv.TM_CCOEFF,cv.TM_CCOEFF_NORMED,cv.TM_CCORR,cv.TM_CCORR_NORMED,\n",
    "          cv.TM_SQDIFF,cv.TM_SQDIFF_NORMED]\n",
    "\n",
    "for method in methods:\n",
    "    img2 = img.copy()\n",
    "    \n",
    "    result = cv.matchTemplate(img2, template, method)\n",
    "    min_val, max_val, min_loc, max_loc = cv.minMaxLoc(result)\n",
    "    if method in [cv.TM_SQDIFF, cv.TM_SQDIFF_NORMED]:\n",
    "        location = min_loc\n",
    "    else:\n",
    "        location = max_loc\n",
    "    \n",
    "    \n",
    "    bottom_right = (location[0] + w,location[1] + h)\n",
    "    cv.rectangle(img2,location,bottom_right,255,5)\n",
    "    cv.imshow('Game',img2)\n",
    "    cv.waitKey(0)\n",
    "    cv.destroyAllWindows()\n"
   ]
  }
 ],
 "metadata": {
  "kernelspec": {
   "display_name": "Python 3 (ipykernel)",
   "language": "python",
   "name": "python3"
  },
  "language_info": {
   "codemirror_mode": {
    "name": "ipython",
    "version": 3
   },
   "file_extension": ".py",
   "mimetype": "text/x-python",
   "name": "python",
   "nbconvert_exporter": "python",
   "pygments_lexer": "ipython3",
   "version": "3.8.11"
  }
 },
 "nbformat": 4,
 "nbformat_minor": 5
}
